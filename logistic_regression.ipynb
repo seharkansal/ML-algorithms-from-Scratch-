{
  "nbformat": 4,
  "nbformat_minor": 0,
  "metadata": {
    "colab": {
      "provenance": [],
      "authorship_tag": "ABX9TyNsW4OY0VkvCjcNaRCWT3GK",
      "include_colab_link": true
    },
    "kernelspec": {
      "name": "python3",
      "display_name": "Python 3"
    },
    "language_info": {
      "name": "python"
    }
  },
  "cells": [
    {
      "cell_type": "markdown",
      "metadata": {
        "id": "view-in-github",
        "colab_type": "text"
      },
      "source": [
        "<a href=\"https://colab.research.google.com/github/seharkansal/ML-algorithms-from-Scratch-/blob/main/logistic_regression.ipynb\" target=\"_parent\"><img src=\"https://colab.research.google.com/assets/colab-badge.svg\" alt=\"Open In Colab\"/></a>"
      ]
    },
    {
      "cell_type": "code",
      "execution_count": 8,
      "metadata": {
        "colab": {
          "base_uri": "https://localhost:8080/"
        },
        "id": "X1__RMy--7Xz",
        "outputId": "7b176c8c-9a40-4927-b36d-602ab9585460"
      },
      "outputs": [
        {
          "output_type": "stream",
          "name": "stdout",
          "text": [
            "LR classification accuracy: 0.9298245614035088\n"
          ]
        }
      ],
      "source": [
        "import numpy as np\n",
        "class LogisticRegression:\n",
        "  def __init__(self,lr=0.001,n_iters=1000):\n",
        "    self.lr=lr\n",
        "    self.n_iters=n_iters\n",
        "    self.weights=None\n",
        "    self.bias=None\n",
        "\n",
        "  def fit(self,X,y):\n",
        "    n_samples,n_features=X.shape\n",
        "    self.weights=np.zeros(n_features)\n",
        "    self.bias=0\n",
        "\n",
        "      #gradient descent\n",
        "    for _ in range(self.n_iters):\n",
        "      linear_model=np.dot(X,self.weights)+self.bias\n",
        "      y_predicted=self.sigmoid_func(linear_model)\n",
        "      dw=(1/n_samples)*np.dot(X.T,(y_predicted-y))\n",
        "      db=(1/n_samples)*np.sum(y_predicted-y)\n",
        "\n",
        "      self.weights-=self.lr  *dw\n",
        "      self.bias-=self.lr * db\n",
        "\n",
        "  def predict(self,X):\n",
        "      linear_model=np.dot(X,self.weights)+self.bias\n",
        "      y_predicted=self.sigmoid_func(linear_model)\n",
        "      y_predicted_cls=[1 if i > 0.5 else 0 for i in y_predicted]\n",
        "      return y_predicted_cls\n",
        "\n",
        "  def sigmoid_func(self,x):\n",
        "      return 1/(1+np.exp(-x))\n",
        "\n",
        "    # Testing\n",
        "if __name__ == \"__main__\":\n",
        "    # Imports\n",
        "    from sklearn.model_selection import train_test_split\n",
        "    from sklearn import datasets\n",
        "\n",
        "    bc = datasets.load_breast_cancer()\n",
        "    X, y = bc.data, bc.target\n",
        "\n",
        "    X_train, X_test, y_train, y_test = train_test_split(\n",
        "        X, y, test_size=0.2, random_state=1234\n",
        "    )\n",
        "\n",
        "    def accuracy(y_true, y_pred):\n",
        "        accuracy = np.sum(y_true == y_pred) / len(y_true)\n",
        "        return accuracy\n",
        "        \"\"\"\n",
        "    y_true == y_pred creates a boolean array where each element is True if the corresponding elements in y_true and y_pred are equal, and False otherwise.\n",
        "    np.sum(y_true == y_pred) counts the number of True values in this boolean array, which corresponds to the number of correct predictions.\n",
        "    len(y_true) gives the total number of predictions (or the number of elements in y_true).\n",
        "    Dividing the number of correct predictions by the total number of predictions gives the accuracy, which is the proportion of correct predictions.\n",
        "    \"\"\"\n",
        "\n",
        "    regressor = LogisticRegression(lr=0.0001, n_iters=1000)\n",
        "    regressor.fit(X_train, y_train)\n",
        "    predictions = regressor.predict(X_test)\n",
        "\n",
        "    print(\"LR classification accuracy:\", accuracy(y_test, predictions))\n",
        ""
      ]
    }
  ]
}